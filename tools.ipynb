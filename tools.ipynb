{
 "cells": [
  {
   "cell_type": "code",
   "execution_count": 1,
   "metadata": {},
   "outputs": [],
   "source": [
    "import cv2\n",
    "import os"
   ]
  },
  {
   "attachments": {},
   "cell_type": "markdown",
   "metadata": {},
   "source": [
    "## Script to Create Video from Images"
   ]
  },
  {
   "cell_type": "code",
   "execution_count": 2,
   "metadata": {},
   "outputs": [],
   "source": [
    "PATH_TO_IMAGES = \"./hello2\"\n",
    "images = [img for img in sorted(os.listdir(PATH_TO_IMAGES)) if img.endswith(\".jpg\")]\n",
    "frame = cv2.imread(os.path.join(PATH_TO_IMAGES, images[0]))\n",
    "height, width, channels = frame.shape\n",
    "fourcc = cv2.VideoWriter_fourcc(*\"mp4v\")\n",
    "VideoWriter = cv2.VideoWriter(\"./mtid_video_test3.mp4\", fourcc, 30, (width, height))\n",
    "for image in images:\n",
    "    VideoWriter.write(cv2.imread(os.path.join(PATH_TO_IMAGES, image)))\n",
    "cv2.destroyAllWindows()\n",
    "VideoWriter.release()"
   ]
  },
  {
   "attachments": {},
   "cell_type": "markdown",
   "metadata": {},
   "source": [
    "## Script to Compress Images"
   ]
  },
  {
   "cell_type": "code",
   "execution_count": 4,
   "metadata": {},
   "outputs": [],
   "source": [
    "from PIL import Image\n",
    "PATH_TO_IMAGES = \"./data/images/train\"\n",
    "PATH_TO_COMP = \"./compressed_mtid\"\n",
    "images = [img for img in sorted(os.listdir(PATH_TO_IMAGES)) if img.endswith(\".jpg\")]\n",
    "for image in images:\n",
    "    img = Image.open(os.path.join(PATH_TO_IMAGES, image))\n",
    "    img = img.resize((640, 360), Image.LANCZOS)\n",
    "    img.save(os.path.join(PATH_TO_COMP, image), quality=95)"
   ]
  }
 ],
 "metadata": {
  "kernelspec": {
   "display_name": "nixie",
   "language": "python",
   "name": "python3"
  },
  "language_info": {
   "codemirror_mode": {
    "name": "ipython",
    "version": 3
   },
   "file_extension": ".py",
   "mimetype": "text/x-python",
   "name": "python",
   "nbconvert_exporter": "python",
   "pygments_lexer": "ipython3",
   "version": "3.11.0"
  },
  "orig_nbformat": 4
 },
 "nbformat": 4,
 "nbformat_minor": 2
}
